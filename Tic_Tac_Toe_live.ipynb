{
  "nbformat": 4,
  "nbformat_minor": 0,
  "metadata": {
    "colab": {
      "provenance": [],
      "authorship_tag": "ABX9TyMsgyuRQx+IZ14jWQsLWGx2",
      "include_colab_link": true
    },
    "kernelspec": {
      "name": "python3",
      "display_name": "Python 3"
    },
    "language_info": {
      "name": "python"
    }
  },
  "cells": [
    {
      "cell_type": "markdown",
      "metadata": {
        "id": "view-in-github",
        "colab_type": "text"
      },
      "source": [
        "<a href=\"https://colab.research.google.com/github/yureiblack/.github/blob/master/Tic_Tac_Toe_live.ipynb\" target=\"_parent\"><img src=\"https://colab.research.google.com/assets/colab-badge.svg\" alt=\"Open In Colab\"/></a>"
      ]
    },
    {
      "cell_type": "code",
      "execution_count": null,
      "metadata": {
        "colab": {
          "base_uri": "https://localhost:8080/"
        },
        "id": "rvJXxMdZG0Wa",
        "outputId": "efffe7b4-bb20-4f36-a61d-f3fb6ef9945a"
      },
      "outputs": [
        {
          "output_type": "stream",
          "name": "stdout",
          "text": [
            "['0', '1', '2']\n",
            "['3', '4', '5']\n",
            "['6', '7', '8']\n",
            "Player 1's turn.\n",
            "Please enter the cell no:\n"
          ]
        }
      ],
      "source": [
        "board = [[\"0\", \"1\", \"2\"],\n",
        "         [\"3\", \"4\", \"5\"],\n",
        "         [\"6\", \"7\", \"8\"]]\n",
        "\n",
        "def print_board(): #To print the board/grid to play in.\n",
        "    for row in board:\n",
        "      print(row)\n",
        "\n",
        "#The funtion to check whether a player has won by checking elements one by one\n",
        "def check_game(mark):\n",
        "  #First check rows:\n",
        "  for i in range(3):\n",
        "    if board[i][0] == board[i][1] == board[i][2] == mark:\n",
        "      # print(\"Player \" + current_player + \" wins!\")\n",
        "      return True\n",
        "\n",
        "  #Then check columns:\n",
        "  for i in range(3):\n",
        "    if board[0][i] == board[1][i] == board[2][i] == mark:\n",
        "      # print(\"Player \" + cuurent_player + \" wins!\")\n",
        "      return True\n",
        "\n",
        "  #First diagonal (left to right):\n",
        "    if board[0][0] == board[1][1] == board[2][2] == mark:\n",
        "      # print(\"Player \" + current_player + \" wins!\")\n",
        "      return True\n",
        "\n",
        "  #Second diagonal (right to left):\n",
        "    if board[0][2] == board[1][1] == board[2][0] == mark:\n",
        "      # print(\"Player \" + current_player + \" wins!\")\n",
        "      return True\n",
        "\n",
        "  return False\n",
        "\n",
        "#The function to play the game:\n",
        "def play_tic_tac_toe():\n",
        "  current_player = \"1\"\n",
        "  mark = \"X\" #Symbol of player 1\n",
        "  moves = 0\n",
        "\n",
        "  #Keep playing until someone wins or it's a draw.\n",
        "  while moves < 9:\n",
        "    print_board()\n",
        "    print(f\"Player {current_player}'s turn.\")\n",
        "    print(\"Please enter the cell no:\")\n",
        "\n",
        "    cell = int(input()) #The grid where the current player wants to play a move.\n",
        "\n",
        "    #The board[row][col] can be found in the following way for each element.\n",
        "    row = cell // 3\n",
        "    col = cell % 3\n",
        "\n",
        "    #To check whether the cell where the current player is marking is available or not\n",
        "    if board[row][col] != \"X\" and board[row][col] != \"0\":\n",
        "      board[row][col] = mark\n",
        "      moves += 1\n",
        "      result = check_game(mark)\n",
        "    else:\n",
        "      print(\"Invalid move. This cell is already occupied.\")\n",
        "      continue\n",
        "\n",
        "    if result:\n",
        "      print(\"Player \" + current_player + \" has won the game!\")\n",
        "      break\n",
        "\n",
        "    if current_player == \"1\":\n",
        "      current_player = \"2\"\n",
        "      mark = \"0\"\n",
        "    else:\n",
        "      current_player = \"1\"\n",
        "      mark = \"X\"\n",
        "\n",
        "    if moves == 9:\n",
        "      print(\"It's a draw!\")\n",
        "\n",
        "#Play the game!\n",
        "play_tic_tac_toe()"
      ]
    }
  ]
}